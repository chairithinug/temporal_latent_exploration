{
 "cells": [
  {
   "cell_type": "code",
   "execution_count": 5,
   "metadata": {},
   "outputs": [
    {
     "name": "stdout",
     "output_type": "stream",
     "text": [
      "Collecting numpy\n",
      "  Downloading numpy-2.2.4-cp311-cp311-manylinux_2_17_x86_64.manylinux2014_x86_64.whl (16.4 MB)\n",
      "\u001b[2K     \u001b[90m━━━━━━━━━━━━━━━━━━━━━━━━━━━━━━━━━━━━━━━━\u001b[0m \u001b[32m16.4/16.4 MB\u001b[0m \u001b[31m49.4 MB/s\u001b[0m eta \u001b[36m0:00:00\u001b[0m00:01\u001b[0m0:01\u001b[0m\n",
      "\u001b[?25hInstalling collected packages: numpy\n",
      "\u001b[31mERROR: pip's dependency resolver does not currently take into account all the packages that are installed. This behaviour is the source of the following dependency conflicts.\n",
      "nvidia-physicsnemo 1.0.1 requires torch>=2.0.0, which is not installed.\n",
      "torch-harmonics 0.6.5 requires torch, which is not installed.\n",
      "torch-harmonics 0.6.5 requires triton, which is not installed.\n",
      "mlflow 2.21.1 requires Jinja2<4,>=2.11; platform_system != \"Windows\", which is not installed.\n",
      "dgl 2.4.0+cu121 requires networkx>=2.1, which is not installed.\n",
      "dgl 2.4.0+cu121 requires torch<=2.4.0, which is not installed.\n",
      "scikit-image 0.25.2 requires networkx>=3.0, which is not installed.\n",
      "nvidia-physicsnemo 1.0.1 requires setuptools>=67.6.0, but you have setuptools 65.5.0 which is incompatible.\u001b[0m\u001b[31m\n",
      "\u001b[0mSuccessfully installed numpy-2.2.4\n",
      "\n",
      "\u001b[1m[\u001b[0m\u001b[34;49mnotice\u001b[0m\u001b[1;39;49m]\u001b[0m\u001b[39;49m A new release of pip available: \u001b[0m\u001b[31;49m22.3.1\u001b[0m\u001b[39;49m -> \u001b[0m\u001b[32;49m25.0.1\u001b[0m\n",
      "\u001b[1m[\u001b[0m\u001b[34;49mnotice\u001b[0m\u001b[1;39;49m]\u001b[0m\u001b[39;49m To update, run: \u001b[0m\u001b[32;49mpip install --upgrade pip\u001b[0m\n"
     ]
    }
   ],
   "source": [
    "!python -m pip install numpy"
   ]
  },
  {
   "cell_type": "code",
   "execution_count": 6,
   "metadata": {},
   "outputs": [],
   "source": [
    "import numpy as np\n",
    "import os"
   ]
  },
  {
   "cell_type": "code",
   "execution_count": 7,
   "metadata": {},
   "outputs": [],
   "source": [
    "rawData = np.load(os.path.join('dataset/', \"rawData.npy\"), allow_pickle=True)"
   ]
  },
  {
   "cell_type": "code",
   "execution_count": 9,
   "metadata": {},
   "outputs": [
    {
     "data": {
      "text/plain": [
       "dict_keys(['x', 'edge_attr', 'edge_index', 'mass', 'para'])"
      ]
     },
     "execution_count": 9,
     "metadata": {},
     "output_type": "execute_result"
    }
   ],
   "source": [
    "rawData.keys()"
   ]
  },
  {
   "cell_type": "code",
   "execution_count": 12,
   "metadata": {},
   "outputs": [
    {
     "data": {
      "text/plain": [
       "((101, 401, 1699, 3), (4954, 3), (2, 4954))"
      ]
     },
     "execution_count": 12,
     "metadata": {},
     "output_type": "execute_result"
    }
   ],
   "source": [
    "rawData['x'].shape, rawData['edge_attr'].shape, rawData['edge_index'].shape"
   ]
  },
  {
   "cell_type": "code",
   "execution_count": 13,
   "metadata": {},
   "outputs": [
    {
     "data": {
      "text/plain": [
       "((1699, 1), (101,))"
      ]
     },
     "execution_count": 13,
     "metadata": {},
     "output_type": "execute_result"
    }
   ],
   "source": [
    "rawData['mass'].shape, rawData['para'].shape"
   ]
  },
  {
   "cell_type": "code",
   "execution_count": 20,
   "metadata": {},
   "outputs": [
    {
     "data": {
      "text/plain": [
       "array([[ 0.027991  , -0.013205  ,  0.03094944],\n",
       "       [-0.002198  ,  0.030036  ,  0.03011632],\n",
       "       [-0.034207  , -0.009637  ,  0.03553858],\n",
       "       ...,\n",
       "       [-0.14918   , -0.1027406 ,  0.18113615],\n",
       "       [-0.0221    ,  0.1496993 ,  0.15132181],\n",
       "       [ 0.14479   , -0.0806596 ,  0.16574111]], shape=(4954, 3))"
      ]
     },
     "execution_count": 20,
     "metadata": {},
     "output_type": "execute_result"
    }
   ],
   "source": [
    "rawData['edge_attr']"
   ]
  },
  {
   "cell_type": "code",
   "execution_count": 21,
   "metadata": {},
   "outputs": [
    {
     "data": {
      "text/plain": [
       "array([[   0,    0,    1, ..., 1698, 1698, 1698],\n",
       "       [  27, 1158,   36, ..., 1118, 1124, 1125]], shape=(2, 4954))"
      ]
     },
     "execution_count": 21,
     "metadata": {},
     "output_type": "execute_result"
    }
   ],
   "source": [
    "rawData['edge_index']"
   ]
  },
  {
   "cell_type": "code",
   "execution_count": 22,
   "metadata": {},
   "outputs": [],
   "source": [
    "position_mesh = np.loadtxt(\"dataset/meshPosition_all.txt\")"
   ]
  },
  {
   "cell_type": "code",
   "execution_count": 25,
   "metadata": {},
   "outputs": [
    {
     "data": {
      "text/plain": [
       "(array([-0.02799103,  0.01320499]), np.float64(0.030949464959144343))"
      ]
     },
     "execution_count": 25,
     "metadata": {},
     "output_type": "execute_result"
    }
   ],
   "source": [
    "position_mesh[0] - position_mesh[27], np.linalg.norm(position_mesh[0] - position_mesh[27])"
   ]
  },
  {
   "cell_type": "code",
   "execution_count": 26,
   "metadata": {},
   "outputs": [],
   "source": [
    "position_mesh = np.loadtxt(\"dataset/meshPosition_all.txt\")\n",
    "position_pivotal = np.loadtxt(\"dataset/meshPosition_pivotal.txt\")"
   ]
  },
  {
   "cell_type": "code",
   "execution_count": 29,
   "metadata": {},
   "outputs": [
    {
     "data": {
      "text/plain": [
       "((1699, 2), (256, 2), (1699, 10))"
      ]
     },
     "execution_count": 29,
     "metadata": {},
     "output_type": "execute_result"
    }
   ],
   "source": [
    "position_mesh.shape, position_pivotal.shape, position_mesh.repeat(5, 1).shape"
   ]
  },
  {
   "cell_type": "code",
   "execution_count": 30,
   "metadata": {},
   "outputs": [
    {
     "ename": "AttributeError",
     "evalue": "'numpy.ndarray' object has no attribute 'repeat_interleave'",
     "output_type": "error",
     "traceback": [
      "\u001b[31m---------------------------------------------------------------------------\u001b[39m",
      "\u001b[31mAttributeError\u001b[39m                            Traceback (most recent call last)",
      "\u001b[36mCell\u001b[39m\u001b[36m \u001b[39m\u001b[32mIn[30]\u001b[39m\u001b[32m, line 2\u001b[39m\n\u001b[32m      1\u001b[39m nodes_index = np.arange(\u001b[32m5\u001b[39m)\n\u001b[32m----> \u001b[39m\u001b[32m2\u001b[39m batch_mesh = \u001b[43mnodes_index\u001b[49m\u001b[43m.\u001b[49m\u001b[43mrepeat_interleave\u001b[49m([\u001b[32m3\u001b[39m,\u001b[32m3\u001b[39m,\u001b[32m3\u001b[39m,\u001b[32m3\u001b[39m,\u001b[32m3\u001b[39m])\n\u001b[32m      3\u001b[39m position_mesh_batch = position_mesh.repeat(\u001b[32m5\u001b[39m, \u001b[32m1\u001b[39m)\n\u001b[32m      4\u001b[39m position_pivotal_batch = position_pivotal.repeat(\u001b[32m5\u001b[39m, \u001b[32m1\u001b[39m)\n",
      "\u001b[31mAttributeError\u001b[39m: 'numpy.ndarray' object has no attribute 'repeat_interleave'"
     ]
    }
   ],
   "source": [
    "nodes_index = np.arange(5)\n",
    "batch_mesh = nodes_index.repeat_interleave([3,3,3,3,3])\n",
    "position_mesh_batch = position_mesh.repeat(5, 1)\n",
    "position_pivotal_batch = position_pivotal.repeat(5, 1)\n",
    "batch_pivotal = nodes_index.repeat_interleave(\n",
    "    ([len(position_pivotal)] * 5)\n",
    ")"
   ]
  },
  {
   "cell_type": "code",
   "execution_count": null,
   "metadata": {},
   "outputs": [],
   "source": [
    "\n",
    "# From train.py\n",
    "def forward(self, graph, position_mesh, position_pivotal):\n",
    "    with autocast(enabled=self.C.amp):\n",
    "        z = self.model.encode(\n",
    "            graph.ndata[\"x\"],\n",
    "            graph.edata[\"x\"],\n",
    "            graph,\n",
    "            position_mesh,\n",
    "            position_pivotal,\n",
    "        )\n",
    "        x = self.model.decode(\n",
    "            z, graph.edata[\"x\"], graph, position_mesh, position_pivotal\n",
    "        )\n",
    "        loss = self.criterion(x, graph.ndata[\"x\"])\n",
    "        return loss"
   ]
  },
  {
   "cell_type": "code",
   "execution_count": null,
   "metadata": {},
   "outputs": [],
   "source": [
    "# from MESH_REDUCE\n",
    "def knn_interpolate(\n",
    "        self,\n",
    "        x: torch.Tensor,\n",
    "        pos_x: torch.Tensor,\n",
    "        pos_y: torch.Tensor,\n",
    "        batch_x: torch.Tensor = None,\n",
    "        batch_y: torch.Tensor = None,\n",
    "        k: int = 3,\n",
    "        num_workers: int = 1,\n",
    "    ):\n",
    "        with torch.no_grad():\n",
    "            assign_index = torch_cluster.knn(\n",
    "                pos_x,\n",
    "                pos_y,\n",
    "                k,\n",
    "                batch_x=batch_x,\n",
    "                batch_y=batch_y,\n",
    "                num_workers=num_workers,\n",
    "            )\n",
    "            y_idx, x_idx = assign_index[0], assign_index[1]\n",
    "            diff = pos_x[x_idx] - pos_y[y_idx]\n",
    "            squared_distance = (diff * diff).sum(dim=-1, keepdim=True)\n",
    "            weights = 1.0 / torch.clamp(squared_distance, min=1e-16)\n",
    "\n",
    "        y = torch_scatter.scatter(\n",
    "            x[x_idx] * weights, y_idx, 0, dim_size=pos_y.size(0), reduce=\"sum\"\n",
    "        )\n",
    "        y = y / torch_scatter.scatter(\n",
    "            weights, y_idx, 0, dim_size=pos_y.size(0), reduce=\"sum\"\n",
    "        )\n",
    "\n",
    "        return y.float(), x_idx, y_idx, weights\n",
    "\n",
    "    def encode(self, x, edge_features, graph, position_mesh, position_pivotal):\n",
    "        x = self.encoder_processor(x, edge_features, graph)\n",
    "        x = self.PivotalNorm(x)\n",
    "        nodes_index = torch.arange(graph.batch_size).to(x.device)\n",
    "        batch_mesh = nodes_index.repeat_interleave(graph.batch_num_nodes())\n",
    "        position_mesh_batch = position_mesh.repeat(graph.batch_size, 1)\n",
    "        position_pivotal_batch = position_pivotal.repeat(graph.batch_size, 1)\n",
    "        batch_pivotal = nodes_index.repeat_interleave(\n",
    "            torch.tensor([len(position_pivotal)] * graph.batch_size).to(x.device)\n",
    "        )\n",
    "        # find k nearest points from all nodes to each pivotal node\n",
    "        x, _, _, _ = self.knn_interpolate(\n",
    "            x=x,\n",
    "            pos_x=position_mesh_batch,\n",
    "            pos_y=position_pivotal_batch,\n",
    "            batch_x=batch_mesh, # BS x 1699\n",
    "            batch_y=batch_pivotal, # 256 x BS\n",
    "        )\n",
    "\n",
    "        return x\n",
    "\n",
    "    def decode(self, x, edge_features, graph, position_mesh, position_pivotal):\n",
    "        nodes_index = torch.arange(graph.batch_size).to(x.device)\n",
    "        batch_mesh = nodes_index.repeat_interleave(graph.batch_num_nodes())\n",
    "        position_mesh_batch = position_mesh.repeat(graph.batch_size, 1)\n",
    "        position_pivotal_batch = position_pivotal.repeat(graph.batch_size, 1)\n",
    "        batch_pivotal = nodes_index.repeat_interleave(\n",
    "            torch.tensor([len(position_pivotal)] * graph.batch_size).to(x.device)\n",
    "        )\n",
    "        # find k nearest points from all pivotal nodes to each node\n",
    "        x, _, _, _ = self.knn_interpolate(\n",
    "            x=x,\n",
    "            pos_x=position_pivotal_batch,\n",
    "            pos_y=position_mesh_batch,\n",
    "            batch_x=batch_pivotal,\n",
    "            batch_y=batch_mesh,\n",
    "        )\n",
    "\n",
    "        x = self.decoder_processor(x, edge_features, graph)\n",
    "        return x"
   ]
  }
 ],
 "metadata": {
  "kernelspec": {
   "display_name": "thesis_venv",
   "language": "python",
   "name": "python3"
  },
  "language_info": {
   "codemirror_mode": {
    "name": "ipython",
    "version": 3
   },
   "file_extension": ".py",
   "mimetype": "text/x-python",
   "name": "python",
   "nbconvert_exporter": "python",
   "pygments_lexer": "ipython3",
   "version": "3.11.3"
  }
 },
 "nbformat": 4,
 "nbformat_minor": 2
}
